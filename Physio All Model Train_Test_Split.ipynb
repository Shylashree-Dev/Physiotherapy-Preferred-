{
 "cells": [
  {
   "cell_type": "code",
   "execution_count": 1,
   "metadata": {},
   "outputs": [],
   "source": [
    "import pandas as pd\n",
    "import numpy as np\n",
    "from sklearn.preprocessing import LabelEncoder\n",
    "from sklearn.preprocessing import StandardScaler\n",
    "from sklearn.model_selection import train_test_split\n",
    "from sklearn.linear_model import LogisticRegression\n",
    "from sklearn.svm import SVC\n",
    "from sklearn.tree import DecisionTreeClassifier\n",
    "from sklearn.ensemble import RandomForestClassifier\n",
    "from sklearn.neighbors import KNeighborsClassifier\n",
    "from sklearn.naive_bayes import GaussianNB\n",
    "from sklearn.metrics import accuracy_score,classification_report\n",
    "from sklearn.model_selection import GridSearchCV"
   ]
  },
  {
   "cell_type": "code",
   "execution_count": 2,
   "metadata": {},
   "outputs": [],
   "source": [
    "X=pd.read_csv(\"X_physio_scaled.csv\")"
   ]
  },
  {
   "cell_type": "code",
   "execution_count": 3,
   "metadata": {},
   "outputs": [
    {
     "data": {
      "text/html": [
       "<div>\n",
       "<style scoped>\n",
       "    .dataframe tbody tr th:only-of-type {\n",
       "        vertical-align: middle;\n",
       "    }\n",
       "\n",
       "    .dataframe tbody tr th {\n",
       "        vertical-align: top;\n",
       "    }\n",
       "\n",
       "    .dataframe thead th {\n",
       "        text-align: right;\n",
       "    }\n",
       "</style>\n",
       "<table border=\"1\" class=\"dataframe\">\n",
       "  <thead>\n",
       "    <tr style=\"text-align: right;\">\n",
       "      <th></th>\n",
       "      <th>Age</th>\n",
       "      <th>Gender</th>\n",
       "      <th>Place</th>\n",
       "      <th>Qua</th>\n",
       "      <th>F_Income</th>\n",
       "      <th>H_Issue</th>\n",
       "      <th>Alp_Before</th>\n",
       "      <th>D_Al_W</th>\n",
       "      <th>Aware_Ph</th>\n",
       "      <th>Rely_Phy</th>\n",
       "      <th>Phy_Bef</th>\n",
       "      <th>Phy_Eff</th>\n",
       "      <th>Why_Phy</th>\n",
       "      <th>Trv_Iss</th>\n",
       "    </tr>\n",
       "  </thead>\n",
       "  <tbody>\n",
       "    <tr>\n",
       "      <th>0</th>\n",
       "      <td>0.176915</td>\n",
       "      <td>-1.014128</td>\n",
       "      <td>0.281474</td>\n",
       "      <td>-0.999376</td>\n",
       "      <td>-0.676596</td>\n",
       "      <td>-1.414485</td>\n",
       "      <td>-3.506268</td>\n",
       "      <td>-1.050484</td>\n",
       "      <td>0.531767</td>\n",
       "      <td>0.877755</td>\n",
       "      <td>1.173111</td>\n",
       "      <td>1.410705</td>\n",
       "      <td>0.247996</td>\n",
       "      <td>-1.038829</td>\n",
       "    </tr>\n",
       "    <tr>\n",
       "      <th>1</th>\n",
       "      <td>0.402466</td>\n",
       "      <td>-1.014128</td>\n",
       "      <td>0.518462</td>\n",
       "      <td>-0.999376</td>\n",
       "      <td>-0.358506</td>\n",
       "      <td>-1.414485</td>\n",
       "      <td>0.567371</td>\n",
       "      <td>0.564898</td>\n",
       "      <td>0.531767</td>\n",
       "      <td>0.877755</td>\n",
       "      <td>1.173111</td>\n",
       "      <td>1.410705</td>\n",
       "      <td>-1.002006</td>\n",
       "      <td>-1.038829</td>\n",
       "    </tr>\n",
       "    <tr>\n",
       "      <th>2</th>\n",
       "      <td>0.176915</td>\n",
       "      <td>-1.014128</td>\n",
       "      <td>-1.614436</td>\n",
       "      <td>-0.999376</td>\n",
       "      <td>1.974151</td>\n",
       "      <td>1.373653</td>\n",
       "      <td>0.567371</td>\n",
       "      <td>0.564898</td>\n",
       "      <td>0.531767</td>\n",
       "      <td>0.877755</td>\n",
       "      <td>1.173111</td>\n",
       "      <td>1.410705</td>\n",
       "      <td>-1.002006</td>\n",
       "      <td>-1.038829</td>\n",
       "    </tr>\n",
       "    <tr>\n",
       "      <th>3</th>\n",
       "      <td>0.222025</td>\n",
       "      <td>-1.014128</td>\n",
       "      <td>0.597458</td>\n",
       "      <td>0.279313</td>\n",
       "      <td>-0.146447</td>\n",
       "      <td>0.301293</td>\n",
       "      <td>0.567371</td>\n",
       "      <td>1.372589</td>\n",
       "      <td>0.531767</td>\n",
       "      <td>-1.472871</td>\n",
       "      <td>1.173111</td>\n",
       "      <td>-1.559513</td>\n",
       "      <td>1.497999</td>\n",
       "      <td>0.962622</td>\n",
       "    </tr>\n",
       "    <tr>\n",
       "      <th>4</th>\n",
       "      <td>-0.905728</td>\n",
       "      <td>-1.014128</td>\n",
       "      <td>0.281474</td>\n",
       "      <td>-0.999376</td>\n",
       "      <td>0.913852</td>\n",
       "      <td>0.944709</td>\n",
       "      <td>0.567371</td>\n",
       "      <td>1.372589</td>\n",
       "      <td>0.531767</td>\n",
       "      <td>-1.472871</td>\n",
       "      <td>1.173111</td>\n",
       "      <td>-1.559513</td>\n",
       "      <td>1.497999</td>\n",
       "      <td>0.962622</td>\n",
       "    </tr>\n",
       "  </tbody>\n",
       "</table>\n",
       "</div>"
      ],
      "text/plain": [
       "        Age    Gender     Place       Qua  F_Income   H_Issue  Alp_Before  \\\n",
       "0  0.176915 -1.014128  0.281474 -0.999376 -0.676596 -1.414485   -3.506268   \n",
       "1  0.402466 -1.014128  0.518462 -0.999376 -0.358506 -1.414485    0.567371   \n",
       "2  0.176915 -1.014128 -1.614436 -0.999376  1.974151  1.373653    0.567371   \n",
       "3  0.222025 -1.014128  0.597458  0.279313 -0.146447  0.301293    0.567371   \n",
       "4 -0.905728 -1.014128  0.281474 -0.999376  0.913852  0.944709    0.567371   \n",
       "\n",
       "     D_Al_W  Aware_Ph  Rely_Phy   Phy_Bef   Phy_Eff   Why_Phy   Trv_Iss  \n",
       "0 -1.050484  0.531767  0.877755  1.173111  1.410705  0.247996 -1.038829  \n",
       "1  0.564898  0.531767  0.877755  1.173111  1.410705 -1.002006 -1.038829  \n",
       "2  0.564898  0.531767  0.877755  1.173111  1.410705 -1.002006 -1.038829  \n",
       "3  1.372589  0.531767 -1.472871  1.173111 -1.559513  1.497999  0.962622  \n",
       "4  1.372589  0.531767 -1.472871  1.173111 -1.559513  1.497999  0.962622  "
      ]
     },
     "execution_count": 3,
     "metadata": {},
     "output_type": "execute_result"
    }
   ],
   "source": [
    "X.head()"
   ]
  },
  {
   "cell_type": "code",
   "execution_count": 6,
   "metadata": {},
   "outputs": [],
   "source": [
    "y=pd.read_csv(\"y_physio.csv\")"
   ]
  },
  {
   "cell_type": "code",
   "execution_count": 7,
   "metadata": {},
   "outputs": [
    {
     "data": {
      "text/html": [
       "<div>\n",
       "<style scoped>\n",
       "    .dataframe tbody tr th:only-of-type {\n",
       "        vertical-align: middle;\n",
       "    }\n",
       "\n",
       "    .dataframe tbody tr th {\n",
       "        vertical-align: top;\n",
       "    }\n",
       "\n",
       "    .dataframe thead th {\n",
       "        text-align: right;\n",
       "    }\n",
       "</style>\n",
       "<table border=\"1\" class=\"dataframe\">\n",
       "  <thead>\n",
       "    <tr style=\"text-align: right;\">\n",
       "      <th></th>\n",
       "      <th>Pref_Phy</th>\n",
       "    </tr>\n",
       "  </thead>\n",
       "  <tbody>\n",
       "    <tr>\n",
       "      <th>0</th>\n",
       "      <td>1</td>\n",
       "    </tr>\n",
       "    <tr>\n",
       "      <th>1</th>\n",
       "      <td>1</td>\n",
       "    </tr>\n",
       "    <tr>\n",
       "      <th>2</th>\n",
       "      <td>1</td>\n",
       "    </tr>\n",
       "    <tr>\n",
       "      <th>3</th>\n",
       "      <td>0</td>\n",
       "    </tr>\n",
       "    <tr>\n",
       "      <th>4</th>\n",
       "      <td>0</td>\n",
       "    </tr>\n",
       "  </tbody>\n",
       "</table>\n",
       "</div>"
      ],
      "text/plain": [
       "   Pref_Phy\n",
       "0         1\n",
       "1         1\n",
       "2         1\n",
       "3         0\n",
       "4         0"
      ]
     },
     "execution_count": 7,
     "metadata": {},
     "output_type": "execute_result"
    }
   ],
   "source": [
    "y.head()"
   ]
  },
  {
   "cell_type": "code",
   "execution_count": 8,
   "metadata": {},
   "outputs": [],
   "source": [
    "X_train,X_test,y_train,y_test=train_test_split(X,y,test_size=0.2,random_state=21)"
   ]
  },
  {
   "cell_type": "code",
   "execution_count": 9,
   "metadata": {},
   "outputs": [
    {
     "name": "stdout",
     "output_type": "stream",
     "text": [
      "(399, 14)\n",
      "(100, 14)\n",
      "(399, 1)\n",
      "(100, 1)\n"
     ]
    }
   ],
   "source": [
    "print(X_train.shape)\n",
    "print(X_test.shape)\n",
    "print(y_train.shape)\n",
    "print(y_test.shape)"
   ]
  },
  {
   "cell_type": "code",
   "execution_count": 10,
   "metadata": {},
   "outputs": [],
   "source": [
    "classifiers = {\n",
    "    \"Logistic Regression\": LogisticRegression(penalty='l2'),\n",
    "    \"Decision Tree\": DecisionTreeClassifier(),\n",
    "    \"Random Forest\": RandomForestClassifier(criterion=\"entropy\"),\n",
    "    \"K-Nearest Neighbors\": KNeighborsClassifier(n_neighbors=3),\n",
    "    \"Naive Bayes\": GaussianNB(),\n",
    "    \"Support Vector Machine\": SVC(kernel='rbf')}\n",
    "    \n"
   ]
  },
  {
   "cell_type": "code",
   "execution_count": 11,
   "metadata": {},
   "outputs": [],
   "source": [
    "model1=classifiers[\"Logistic Regression\"]\n",
    "model2=classifiers[\"Decision Tree\"]\n",
    "model3=classifiers[\"Random Forest\"]\n",
    "model4=classifiers[\"K-Nearest Neighbors\"]\n",
    "model5=classifiers[\"Naive Bayes\"]\n",
    "model6=classifiers[\"Support Vector Machine\"]"
   ]
  },
  {
   "cell_type": "code",
   "execution_count": 12,
   "metadata": {},
   "outputs": [
    {
     "name": "stderr",
     "output_type": "stream",
     "text": [
      "C:\\Users\\Pattu\\anaconda3\\lib\\site-packages\\sklearn\\utils\\validation.py:993: DataConversionWarning: A column-vector y was passed when a 1d array was expected. Please change the shape of y to (n_samples, ), for example using ravel().\n",
      "  y = column_or_1d(y, warn=True)\n"
     ]
    },
    {
     "data": {
      "text/plain": [
       "LogisticRegression()"
      ]
     },
     "execution_count": 12,
     "metadata": {},
     "output_type": "execute_result"
    }
   ],
   "source": [
    "model1.fit(X_train,y_train)"
   ]
  },
  {
   "cell_type": "code",
   "execution_count": 13,
   "metadata": {},
   "outputs": [],
   "source": [
    "y_pred_Logistic_1 = model1.predict(X_test)"
   ]
  },
  {
   "cell_type": "code",
   "execution_count": 14,
   "metadata": {},
   "outputs": [
    {
     "name": "stdout",
     "output_type": "stream",
     "text": [
      "Accuracy: 0.78\n"
     ]
    }
   ],
   "source": [
    "accuracy = accuracy_score(y_test, y_pred_Logistic_1)\n",
    "print(\"Accuracy:\", accuracy)"
   ]
  },
  {
   "cell_type": "code",
   "execution_count": 15,
   "metadata": {},
   "outputs": [],
   "source": [
    "y_pred_Logistic_2 = model1.predict(X_train)"
   ]
  },
  {
   "cell_type": "code",
   "execution_count": 16,
   "metadata": {},
   "outputs": [
    {
     "name": "stdout",
     "output_type": "stream",
     "text": [
      "Accuracy: 0.8070175438596491\n"
     ]
    }
   ],
   "source": [
    "accuracy = accuracy_score(y_train, y_pred_Logistic_2)\n",
    "print(\"Accuracy:\", accuracy)"
   ]
  },
  {
   "cell_type": "code",
   "execution_count": 17,
   "metadata": {},
   "outputs": [
    {
     "data": {
      "text/html": [
       "<div>\n",
       "<style scoped>\n",
       "    .dataframe tbody tr th:only-of-type {\n",
       "        vertical-align: middle;\n",
       "    }\n",
       "\n",
       "    .dataframe tbody tr th {\n",
       "        vertical-align: top;\n",
       "    }\n",
       "\n",
       "    .dataframe thead th {\n",
       "        text-align: right;\n",
       "    }\n",
       "</style>\n",
       "<table border=\"1\" class=\"dataframe\">\n",
       "  <thead>\n",
       "    <tr style=\"text-align: right;\">\n",
       "      <th></th>\n",
       "      <th>Age</th>\n",
       "      <th>Gender</th>\n",
       "      <th>Place</th>\n",
       "      <th>Qua</th>\n",
       "      <th>F_Income</th>\n",
       "      <th>H_Issue</th>\n",
       "      <th>Alp_Before</th>\n",
       "      <th>D_Al_W</th>\n",
       "      <th>Aware_Ph</th>\n",
       "      <th>Rely_Phy</th>\n",
       "      <th>Phy_Bef</th>\n",
       "      <th>Phy_Eff</th>\n",
       "      <th>Why_Phy</th>\n",
       "      <th>Trv_Iss</th>\n",
       "    </tr>\n",
       "  </thead>\n",
       "  <tbody>\n",
       "    <tr>\n",
       "      <th>149</th>\n",
       "      <td>-0.229076</td>\n",
       "      <td>-1.014128</td>\n",
       "      <td>-1.298451</td>\n",
       "      <td>1.558002</td>\n",
       "      <td>-0.623581</td>\n",
       "      <td>0.515765</td>\n",
       "      <td>-1.469449</td>\n",
       "      <td>-0.242793</td>\n",
       "      <td>-1.880522</td>\n",
       "      <td>-1.472871</td>\n",
       "      <td>1.173111</td>\n",
       "      <td>-1.559513</td>\n",
       "      <td>0.247996</td>\n",
       "      <td>0.962622</td>\n",
       "    </tr>\n",
       "    <tr>\n",
       "      <th>467</th>\n",
       "      <td>1.936210</td>\n",
       "      <td>-1.014128</td>\n",
       "      <td>0.755451</td>\n",
       "      <td>-0.999376</td>\n",
       "      <td>-0.358506</td>\n",
       "      <td>0.515765</td>\n",
       "      <td>0.567371</td>\n",
       "      <td>0.564898</td>\n",
       "      <td>0.531767</td>\n",
       "      <td>0.877755</td>\n",
       "      <td>1.173111</td>\n",
       "      <td>1.410705</td>\n",
       "      <td>-1.002006</td>\n",
       "      <td>0.962622</td>\n",
       "    </tr>\n",
       "    <tr>\n",
       "      <th>294</th>\n",
       "      <td>-0.003526</td>\n",
       "      <td>-1.014128</td>\n",
       "      <td>-0.350496</td>\n",
       "      <td>0.279313</td>\n",
       "      <td>1.125912</td>\n",
       "      <td>-1.414485</td>\n",
       "      <td>0.567371</td>\n",
       "      <td>1.372589</td>\n",
       "      <td>-1.880522</td>\n",
       "      <td>-0.689329</td>\n",
       "      <td>-0.852434</td>\n",
       "      <td>-0.074404</td>\n",
       "      <td>0.247996</td>\n",
       "      <td>0.962622</td>\n",
       "    </tr>\n",
       "    <tr>\n",
       "      <th>381</th>\n",
       "      <td>-0.048636</td>\n",
       "      <td>0.986069</td>\n",
       "      <td>0.518462</td>\n",
       "      <td>-0.999376</td>\n",
       "      <td>-0.538757</td>\n",
       "      <td>0.515765</td>\n",
       "      <td>0.567371</td>\n",
       "      <td>-1.050484</td>\n",
       "      <td>0.531767</td>\n",
       "      <td>0.877755</td>\n",
       "      <td>-0.852434</td>\n",
       "      <td>-2.302068</td>\n",
       "      <td>0.247996</td>\n",
       "      <td>-1.038829</td>\n",
       "    </tr>\n",
       "    <tr>\n",
       "      <th>321</th>\n",
       "      <td>-1.492160</td>\n",
       "      <td>-1.014128</td>\n",
       "      <td>0.123481</td>\n",
       "      <td>1.558002</td>\n",
       "      <td>0.065613</td>\n",
       "      <td>-0.771068</td>\n",
       "      <td>0.567371</td>\n",
       "      <td>-1.050484</td>\n",
       "      <td>0.531767</td>\n",
       "      <td>0.877755</td>\n",
       "      <td>1.173111</td>\n",
       "      <td>1.410705</td>\n",
       "      <td>-1.002006</td>\n",
       "      <td>0.962622</td>\n",
       "    </tr>\n",
       "  </tbody>\n",
       "</table>\n",
       "</div>"
      ],
      "text/plain": [
       "          Age    Gender     Place       Qua  F_Income   H_Issue  Alp_Before  \\\n",
       "149 -0.229076 -1.014128 -1.298451  1.558002 -0.623581  0.515765   -1.469449   \n",
       "467  1.936210 -1.014128  0.755451 -0.999376 -0.358506  0.515765    0.567371   \n",
       "294 -0.003526 -1.014128 -0.350496  0.279313  1.125912 -1.414485    0.567371   \n",
       "381 -0.048636  0.986069  0.518462 -0.999376 -0.538757  0.515765    0.567371   \n",
       "321 -1.492160 -1.014128  0.123481  1.558002  0.065613 -0.771068    0.567371   \n",
       "\n",
       "       D_Al_W  Aware_Ph  Rely_Phy   Phy_Bef   Phy_Eff   Why_Phy   Trv_Iss  \n",
       "149 -0.242793 -1.880522 -1.472871  1.173111 -1.559513  0.247996  0.962622  \n",
       "467  0.564898  0.531767  0.877755  1.173111  1.410705 -1.002006  0.962622  \n",
       "294  1.372589 -1.880522 -0.689329 -0.852434 -0.074404  0.247996  0.962622  \n",
       "381 -1.050484  0.531767  0.877755 -0.852434 -2.302068  0.247996 -1.038829  \n",
       "321 -1.050484  0.531767  0.877755  1.173111  1.410705 -1.002006  0.962622  "
      ]
     },
     "execution_count": 17,
     "metadata": {},
     "output_type": "execute_result"
    }
   ],
   "source": [
    "X_test.head()"
   ]
  },
  {
   "cell_type": "code",
   "execution_count": 18,
   "metadata": {},
   "outputs": [
    {
     "data": {
      "text/html": [
       "<div>\n",
       "<style scoped>\n",
       "    .dataframe tbody tr th:only-of-type {\n",
       "        vertical-align: middle;\n",
       "    }\n",
       "\n",
       "    .dataframe tbody tr th {\n",
       "        vertical-align: top;\n",
       "    }\n",
       "\n",
       "    .dataframe thead th {\n",
       "        text-align: right;\n",
       "    }\n",
       "</style>\n",
       "<table border=\"1\" class=\"dataframe\">\n",
       "  <thead>\n",
       "    <tr style=\"text-align: right;\">\n",
       "      <th></th>\n",
       "      <th>Pref_Phy</th>\n",
       "    </tr>\n",
       "  </thead>\n",
       "  <tbody>\n",
       "    <tr>\n",
       "      <th>149</th>\n",
       "      <td>0</td>\n",
       "    </tr>\n",
       "    <tr>\n",
       "      <th>467</th>\n",
       "      <td>1</td>\n",
       "    </tr>\n",
       "    <tr>\n",
       "      <th>294</th>\n",
       "      <td>0</td>\n",
       "    </tr>\n",
       "    <tr>\n",
       "      <th>381</th>\n",
       "      <td>1</td>\n",
       "    </tr>\n",
       "    <tr>\n",
       "      <th>321</th>\n",
       "      <td>1</td>\n",
       "    </tr>\n",
       "    <tr>\n",
       "      <th>306</th>\n",
       "      <td>1</td>\n",
       "    </tr>\n",
       "    <tr>\n",
       "      <th>66</th>\n",
       "      <td>1</td>\n",
       "    </tr>\n",
       "    <tr>\n",
       "      <th>495</th>\n",
       "      <td>0</td>\n",
       "    </tr>\n",
       "    <tr>\n",
       "      <th>127</th>\n",
       "      <td>1</td>\n",
       "    </tr>\n",
       "    <tr>\n",
       "      <th>70</th>\n",
       "      <td>1</td>\n",
       "    </tr>\n",
       "  </tbody>\n",
       "</table>\n",
       "</div>"
      ],
      "text/plain": [
       "     Pref_Phy\n",
       "149         0\n",
       "467         1\n",
       "294         0\n",
       "381         1\n",
       "321         1\n",
       "306         1\n",
       "66          1\n",
       "495         0\n",
       "127         1\n",
       "70          1"
      ]
     },
     "execution_count": 18,
     "metadata": {},
     "output_type": "execute_result"
    }
   ],
   "source": [
    "y_test.head(10)"
   ]
  },
  {
   "cell_type": "code",
   "execution_count": 19,
   "metadata": {},
   "outputs": [],
   "source": [
    "from sklearn.metrics import confusion_matrix\n",
    "from sklearn.metrics import classification_report"
   ]
  },
  {
   "cell_type": "code",
   "execution_count": 20,
   "metadata": {},
   "outputs": [
    {
     "name": "stdout",
     "output_type": "stream",
     "text": [
      "Confusion matrix is \n",
      " [[40 11]\n",
      " [11 38]]\n"
     ]
    }
   ],
   "source": [
    "cm = confusion_matrix(y_test, y_pred_Logistic_1)\n",
    "print(\"Confusion matrix is \\n\",cm)\n"
   ]
  },
  {
   "cell_type": "code",
   "execution_count": 21,
   "metadata": {},
   "outputs": [
    {
     "name": "stdout",
     "output_type": "stream",
     "text": [
      "Classification Report:\n",
      "              precision    recall  f1-score   support\n",
      "\n",
      "           0       0.78      0.78      0.78        51\n",
      "           1       0.78      0.78      0.78        49\n",
      "\n",
      "    accuracy                           0.78       100\n",
      "   macro avg       0.78      0.78      0.78       100\n",
      "weighted avg       0.78      0.78      0.78       100\n",
      "\n"
     ]
    }
   ],
   "source": [
    "report = classification_report(y_test, y_pred_Logistic_1)\n",
    "\n",
    "print(\"Classification Report:\")\n",
    "print(report)"
   ]
  },
  {
   "cell_type": "code",
   "execution_count": 22,
   "metadata": {},
   "outputs": [],
   "source": [
    "import matplotlib.pyplot as plt\n",
    "from sklearn.metrics import roc_curve, roc_auc_score"
   ]
  },
  {
   "cell_type": "code",
   "execution_count": 23,
   "metadata": {},
   "outputs": [],
   "source": [
    "# Calculate the false positive rate, true positive rate, and thresholds\n",
    "fpr, tpr, thresholds = roc_curve(y_test, y_pred_Logistic_1)\n",
    "\n",
    "# Calculate the AUC\n",
    "auc = roc_auc_score(y_test, y_pred_Logistic_1)"
   ]
  },
  {
   "cell_type": "code",
   "execution_count": 24,
   "metadata": {},
   "outputs": [
    {
     "data": {
      "text/plain": [
       "[<matplotlib.lines.Line2D at 0xab82e50>]"
      ]
     },
     "execution_count": 24,
     "metadata": {},
     "output_type": "execute_result"
    },
    {
     "data": {
      "image/png": "[encoded data removed]",
      "text/plain": [
       "<Figure size 432x288 with 1 Axes>"
      ]
     },
     "metadata": {
      "needs_background": "light"
     },
     "output_type": "display_data"
    }
   ],
   "source": [
    "plt.plot(fpr, tpr, label='ROC curve (AUC = %0.2f)' % auc)"
   ]
  },
  {
   "cell_type": "code",
   "execution_count": 25,
   "metadata": {},
   "outputs": [],
   "source": [
    "import seaborn as sns\n",
    "import matplotlib.pyplot as plt"
   ]
  },
  {
   "cell_type": "markdown",
   "metadata": {},
   "source": [
    "# ##################################################"
   ]
  },
  {
   "cell_type": "code",
   "execution_count": 26,
   "metadata": {},
   "outputs": [
    {
     "data": {
      "text/plain": [
       "DecisionTreeClassifier()"
      ]
     },
     "execution_count": 26,
     "metadata": {},
     "output_type": "execute_result"
    }
   ],
   "source": [
    "model2.fit(X_train,y_train)"
   ]
  },
  {
   "cell_type": "code",
   "execution_count": 27,
   "metadata": {},
   "outputs": [],
   "source": [
    "y_pred_Decision_1 = model2.predict(X_test)"
   ]
  },
  {
   "cell_type": "code",
   "execution_count": 28,
   "metadata": {},
   "outputs": [
    {
     "name": "stdout",
     "output_type": "stream",
     "text": [
      "Accuracy: 0.99\n"
     ]
    }
   ],
   "source": [
    "accuracy = accuracy_score(y_test, y_pred_Decision_1)\n",
    "print(\"Accuracy:\", accuracy)"
   ]
  },
  {
   "cell_type": "code",
   "execution_count": 29,
   "metadata": {},
   "outputs": [],
   "source": [
    "y_pred_Decision_2 = model2.predict(X_train)"
   ]
  },
  {
   "cell_type": "code",
   "execution_count": 30,
   "metadata": {},
   "outputs": [
    {
     "name": "stdout",
     "output_type": "stream",
     "text": [
      "Accuracy: 1.0\n"
     ]
    }
   ],
   "source": [
    "accuracy = accuracy_score(y_train, y_pred_Decision_2)\n",
    "print(\"Accuracy:\", accuracy)"
   ]
  },
  {
   "cell_type": "code",
   "execution_count": 31,
   "metadata": {},
   "outputs": [
    {
     "name": "stdout",
     "output_type": "stream",
     "text": [
      "Root Node: <sklearn.tree._tree.Tree object at 0x0AD87870>\n"
     ]
    }
   ],
   "source": [
    "# Access the root node of the decision tree\n",
    "root_node = model2.tree_\n",
    "\n",
    "# Print the root node\n",
    "print(\"Root Node:\", root_node)"
   ]
  },
  {
   "cell_type": "code",
   "execution_count": 32,
   "metadata": {},
   "outputs": [
    {
     "name": "stdout",
     "output_type": "stream",
     "text": [
      "Confusion matrix is \n",
      " [[51  0]\n",
      " [ 1 48]]\n"
     ]
    }
   ],
   "source": [
    "cm1 = confusion_matrix(y_test, y_pred_Decision_1)\n",
    "print(\"Confusion matrix is \\n\",cm1)"
   ]
  },
  {
   "cell_type": "code",
   "execution_count": 33,
   "metadata": {},
   "outputs": [
    {
     "name": "stdout",
     "output_type": "stream",
     "text": [
      "Classification Report:\n",
      "              precision    recall  f1-score   support\n",
      "\n",
      "           0       0.98      1.00      0.99        51\n",
      "           1       1.00      0.98      0.99        49\n",
      "\n",
      "    accuracy                           0.99       100\n",
      "   macro avg       0.99      0.99      0.99       100\n",
      "weighted avg       0.99      0.99      0.99       100\n",
      "\n"
     ]
    }
   ],
   "source": [
    "report1 = classification_report(y_test,y_pred_Decision_1)\n",
    "\n",
    "print(\"Classification Report:\")\n",
    "print(report1)"
   ]
  },
  {
   "cell_type": "code",
   "execution_count": null,
   "metadata": {},
   "outputs": [],
   "source": []
  },
  {
   "cell_type": "markdown",
   "metadata": {},
   "source": [
    "# #######################################################"
   ]
  },
  {
   "cell_type": "code",
   "execution_count": 34,
   "metadata": {},
   "outputs": [
    {
     "name": "stderr",
     "output_type": "stream",
     "text": [
      "<ipython-input-34-222771e4f770>:1: DataConversionWarning: A column-vector y was passed when a 1d array was expected. Please change the shape of y to (n_samples,), for example using ravel().\n",
      "  model3.fit(X_train,y_train)\n"
     ]
    },
    {
     "data": {
      "text/plain": [
       "RandomForestClassifier(criterion='entropy')"
      ]
     },
     "execution_count": 34,
     "metadata": {},
     "output_type": "execute_result"
    }
   ],
   "source": [
    "model3.fit(X_train,y_train)"
   ]
  },
  {
   "cell_type": "code",
   "execution_count": 35,
   "metadata": {},
   "outputs": [],
   "source": [
    "y_pred_Random_1 = model3.predict(X_test)"
   ]
  },
  {
   "cell_type": "code",
   "execution_count": 36,
   "metadata": {},
   "outputs": [
    {
     "name": "stdout",
     "output_type": "stream",
     "text": [
      "Accuracy: 1.0\n"
     ]
    }
   ],
   "source": [
    "accuracy = accuracy_score(y_test, y_pred_Random_1)\n",
    "print(\"Accuracy:\", accuracy)"
   ]
  },
  {
   "cell_type": "code",
   "execution_count": 37,
   "metadata": {},
   "outputs": [],
   "source": [
    "y_pred_Random_2 = model3.predict(X_train)"
   ]
  },
  {
   "cell_type": "code",
   "execution_count": 38,
   "metadata": {},
   "outputs": [
    {
     "name": "stdout",
     "output_type": "stream",
     "text": [
      "Accuracy: 1.0\n"
     ]
    }
   ],
   "source": [
    "accuracy = accuracy_score(y_train, y_pred_Random_2)\n",
    "print(\"Accuracy:\", accuracy)"
   ]
  },
  {
   "cell_type": "code",
   "execution_count": 39,
   "metadata": {},
   "outputs": [
    {
     "name": "stdout",
     "output_type": "stream",
     "text": [
      "Number of decision trees in the Random Forest:  100\n"
     ]
    }
   ],
   "source": [
    "num_trees = len(model3.estimators_)\n",
    "print(\"Number of decision trees in the Random Forest: \", num_trees)"
   ]
  },
  {
   "cell_type": "code",
   "execution_count": 40,
   "metadata": {},
   "outputs": [
    {
     "name": "stdout",
     "output_type": "stream",
     "text": [
      "Max depth of tree  1  is  None\n",
      "Max depth of tree  2  is  None\n",
      "Max depth of tree  3  is  None\n",
      "Max depth of tree  4  is  None\n",
      "Max depth of tree  5  is  None\n",
      "Max depth of tree  6  is  None\n",
      "Max depth of tree  7  is  None\n",
      "Max depth of tree  8  is  None\n",
      "Max depth of tree  9  is  None\n",
      "Max depth of tree  10  is  None\n",
      "Max depth of tree  11  is  None\n",
      "Max depth of tree  12  is  None\n",
      "Max depth of tree  13  is  None\n",
      "Max depth of tree  14  is  None\n",
      "Max depth of tree  15  is  None\n",
      "Max depth of tree  16  is  None\n",
      "Max depth of tree  17  is  None\n",
      "Max depth of tree  18  is  None\n",
      "Max depth of tree  19  is  None\n",
      "Max depth of tree  20  is  None\n",
      "Max depth of tree  21  is  None\n",
      "Max depth of tree  22  is  None\n",
      "Max depth of tree  23  is  None\n",
      "Max depth of tree  24  is  None\n",
      "Max depth of tree  25  is  None\n",
      "Max depth of tree  26  is  None\n",
      "Max depth of tree  27  is  None\n",
      "Max depth of tree  28  is  None\n",
      "Max depth of tree  29  is  None\n",
      "Max depth of tree  30  is  None\n",
      "Max depth of tree  31  is  None\n",
      "Max depth of tree  32  is  None\n",
      "Max depth of tree  33  is  None\n",
      "Max depth of tree  34  is  None\n",
      "Max depth of tree  35  is  None\n",
      "Max depth of tree  36  is  None\n",
      "Max depth of tree  37  is  None\n",
      "Max depth of tree  38  is  None\n",
      "Max depth of tree  39  is  None\n",
      "Max depth of tree  40  is  None\n",
      "Max depth of tree  41  is  None\n",
      "Max depth of tree  42  is  None\n",
      "Max depth of tree  43  is  None\n",
      "Max depth of tree  44  is  None\n",
      "Max depth of tree  45  is  None\n",
      "Max depth of tree  46  is  None\n",
      "Max depth of tree  47  is  None\n",
      "Max depth of tree  48  is  None\n",
      "Max depth of tree  49  is  None\n",
      "Max depth of tree  50  is  None\n",
      "Max depth of tree  51  is  None\n",
      "Max depth of tree  52  is  None\n",
      "Max depth of tree  53  is  None\n",
      "Max depth of tree  54  is  None\n",
      "Max depth of tree  55  is  None\n",
      "Max depth of tree  56  is  None\n",
      "Max depth of tree  57  is  None\n",
      "Max depth of tree  58  is  None\n",
      "Max depth of tree  59  is  None\n",
      "Max depth of tree  60  is  None\n",
      "Max depth of tree  61  is  None\n",
      "Max depth of tree  62  is  None\n",
      "Max depth of tree  63  is  None\n",
      "Max depth of tree  64  is  None\n",
      "Max depth of tree  65  is  None\n",
      "Max depth of tree  66  is  None\n",
      "Max depth of tree  67  is  None\n",
      "Max depth of tree  68  is  None\n",
      "Max depth of tree  69  is  None\n",
      "Max depth of tree  70  is  None\n",
      "Max depth of tree  71  is  None\n",
      "Max depth of tree  72  is  None\n",
      "Max depth of tree  73  is  None\n",
      "Max depth of tree  74  is  None\n",
      "Max depth of tree  75  is  None\n",
      "Max depth of tree  76  is  None\n",
      "Max depth of tree  77  is  None\n",
      "Max depth of tree  78  is  None\n",
      "Max depth of tree  79  is  None\n",
      "Max depth of tree  80  is  None\n",
      "Max depth of tree  81  is  None\n",
      "Max depth of tree  82  is  None\n",
      "Max depth of tree  83  is  None\n",
      "Max depth of tree  84  is  None\n",
      "Max depth of tree  85  is  None\n",
      "Max depth of tree  86  is  None\n",
      "Max depth of tree  87  is  None\n",
      "Max depth of tree  88  is  None\n",
      "Max depth of tree  89  is  None\n",
      "Max depth of tree  90  is  None\n",
      "Max depth of tree  91  is  None\n",
      "Max depth of tree  92  is  None\n",
      "Max depth of tree  93  is  None\n",
      "Max depth of tree  94  is  None\n",
      "Max depth of tree  95  is  None\n",
      "Max depth of tree  96  is  None\n",
      "Max depth of tree  97  is  None\n",
      "Max depth of tree  98  is  None\n",
      "Max depth of tree  99  is  None\n",
      "Max depth of tree  100  is  None\n"
     ]
    }
   ],
   "source": [
    "for i, tree in enumerate(model3.estimators_):\n",
    "    print(\"Max depth of tree \", i+1, \" is \", tree.max_depth)"
   ]
  },
  {
   "cell_type": "code",
   "execution_count": 41,
   "metadata": {},
   "outputs": [
    {
     "name": "stdout",
     "output_type": "stream",
     "text": [
      "{'bootstrap': True, 'ccp_alpha': 0.0, 'class_weight': None, 'criterion': 'entropy', 'max_depth': None, 'max_features': 'auto', 'max_leaf_nodes': None, 'max_samples': None, 'min_impurity_decrease': 0.0, 'min_samples_leaf': 1, 'min_samples_split': 2, 'min_weight_fraction_leaf': 0.0, 'n_estimators': 100, 'n_jobs': None, 'oob_score': False, 'random_state': None, 'verbose': 0, 'warm_start': False}\n"
     ]
    }
   ],
   "source": [
    "print(model3.get_params())"
   ]
  },
  {
   "cell_type": "markdown",
   "metadata": {},
   "source": [
    "# ###################################################"
   ]
  },
  {
   "cell_type": "code",
   "execution_count": 42,
   "metadata": {},
   "outputs": [
    {
     "name": "stderr",
     "output_type": "stream",
     "text": [
      "C:\\Users\\Pattu\\anaconda3\\lib\\site-packages\\sklearn\\neighbors\\_classification.py:198: DataConversionWarning: A column-vector y was passed when a 1d array was expected. Please change the shape of y to (n_samples,), for example using ravel().\n",
      "  return self._fit(X, y)\n"
     ]
    },
    {
     "data": {
      "text/plain": [
       "KNeighborsClassifier(n_neighbors=3)"
      ]
     },
     "execution_count": 42,
     "metadata": {},
     "output_type": "execute_result"
    }
   ],
   "source": [
    "model4.fit(X_train,y_train)"
   ]
  },
  {
   "cell_type": "code",
   "execution_count": 43,
   "metadata": {},
   "outputs": [],
   "source": [
    "y_pred_KNeighbors_1 = model4.predict(X_test)"
   ]
  },
  {
   "cell_type": "code",
   "execution_count": 44,
   "metadata": {},
   "outputs": [
    {
     "name": "stdout",
     "output_type": "stream",
     "text": [
      "Accuracy: 1.0\n"
     ]
    }
   ],
   "source": [
    "accuracy = accuracy_score(y_test, y_pred_KNeighbors_1)\n",
    "print(\"Accuracy:\", accuracy)"
   ]
  },
  {
   "cell_type": "code",
   "execution_count": 45,
   "metadata": {},
   "outputs": [],
   "source": [
    "y_pred_KNeighbors_2 = model4.predict(X_train)"
   ]
  },
  {
   "cell_type": "code",
   "execution_count": 46,
   "metadata": {},
   "outputs": [
    {
     "name": "stdout",
     "output_type": "stream",
     "text": [
      "Accuracy: 0.9974937343358395\n"
     ]
    }
   ],
   "source": [
    "accuracy = accuracy_score(y_train, y_pred_KNeighbors_2)\n",
    "print(\"Accuracy:\", accuracy)"
   ]
  },
  {
   "cell_type": "code",
   "execution_count": 47,
   "metadata": {},
   "outputs": [
    {
     "name": "stdout",
     "output_type": "stream",
     "text": [
      "{'algorithm': 'auto', 'leaf_size': 30, 'metric': 'minkowski', 'metric_params': None, 'n_jobs': None, 'n_neighbors': 3, 'p': 2, 'weights': 'uniform'}\n"
     ]
    }
   ],
   "source": [
    "print(model4.get_params())"
   ]
  },
  {
   "cell_type": "code",
   "execution_count": null,
   "metadata": {},
   "outputs": [],
   "source": []
  },
  {
   "cell_type": "markdown",
   "metadata": {},
   "source": [
    "# ##############################################"
   ]
  },
  {
   "cell_type": "code",
   "execution_count": null,
   "metadata": {},
   "outputs": [],
   "source": []
  },
  {
   "cell_type": "code",
   "execution_count": 48,
   "metadata": {},
   "outputs": [
    {
     "name": "stderr",
     "output_type": "stream",
     "text": [
      "C:\\Users\\Pattu\\anaconda3\\lib\\site-packages\\sklearn\\utils\\validation.py:993: DataConversionWarning: A column-vector y was passed when a 1d array was expected. Please change the shape of y to (n_samples, ), for example using ravel().\n",
      "  y = column_or_1d(y, warn=True)\n"
     ]
    },
    {
     "data": {
      "text/plain": [
       "GaussianNB()"
      ]
     },
     "execution_count": 48,
     "metadata": {},
     "output_type": "execute_result"
    }
   ],
   "source": [
    "model5.fit(X_train,y_train)"
   ]
  },
  {
   "cell_type": "code",
   "execution_count": 49,
   "metadata": {},
   "outputs": [],
   "source": [
    "y_pred_GaussianNB_1 = model5.predict(X_test)"
   ]
  },
  {
   "cell_type": "code",
   "execution_count": 50,
   "metadata": {},
   "outputs": [
    {
     "name": "stdout",
     "output_type": "stream",
     "text": [
      "Accuracy: 0.78\n"
     ]
    }
   ],
   "source": [
    "accuracy = accuracy_score(y_test, y_pred_GaussianNB_1)\n",
    "print(\"Accuracy:\", accuracy)"
   ]
  },
  {
   "cell_type": "code",
   "execution_count": 51,
   "metadata": {},
   "outputs": [],
   "source": [
    "y_pred_GaussianNB_2 = model5.predict(X_train)"
   ]
  },
  {
   "cell_type": "code",
   "execution_count": 52,
   "metadata": {},
   "outputs": [
    {
     "name": "stdout",
     "output_type": "stream",
     "text": [
      "Accuracy: 0.8045112781954887\n"
     ]
    }
   ],
   "source": [
    "accuracy = accuracy_score(y_train, y_pred_GaussianNB_2)\n",
    "print(\"Accuracy:\", accuracy)"
   ]
  },
  {
   "cell_type": "code",
   "execution_count": 53,
   "metadata": {},
   "outputs": [
    {
     "data": {
      "text/plain": [
       "array([[9.99969725e-01, 3.02753707e-05],\n",
       "       [5.98671965e-04, 9.99401328e-01],\n",
       "       [9.99540304e-01, 4.59696335e-04],\n",
       "       [3.39121647e-01, 6.60878353e-01],\n",
       "       [2.09586612e-03, 9.97904134e-01],\n",
       "       [1.24309089e-02, 9.87569091e-01],\n",
       "       [3.05704952e-01, 6.94295048e-01],\n",
       "       [2.77863303e-01, 7.22136697e-01],\n",
       "       [7.71389088e-01, 2.28610912e-01],\n",
       "       [1.90057807e-04, 9.99809942e-01]])"
      ]
     },
     "execution_count": 53,
     "metadata": {},
     "output_type": "execute_result"
    }
   ],
   "source": [
    "model5.predict_proba(X_test[:10])"
   ]
  },
  {
   "cell_type": "code",
   "execution_count": 54,
   "metadata": {},
   "outputs": [
    {
     "data": {
      "text/html": [
       "<div>\n",
       "<style scoped>\n",
       "    .dataframe tbody tr th:only-of-type {\n",
       "        vertical-align: middle;\n",
       "    }\n",
       "\n",
       "    .dataframe tbody tr th {\n",
       "        vertical-align: top;\n",
       "    }\n",
       "\n",
       "    .dataframe thead th {\n",
       "        text-align: right;\n",
       "    }\n",
       "</style>\n",
       "<table border=\"1\" class=\"dataframe\">\n",
       "  <thead>\n",
       "    <tr style=\"text-align: right;\">\n",
       "      <th></th>\n",
       "      <th>Age</th>\n",
       "      <th>Gender</th>\n",
       "      <th>Place</th>\n",
       "      <th>Qua</th>\n",
       "      <th>F_Income</th>\n",
       "      <th>H_Issue</th>\n",
       "      <th>Alp_Before</th>\n",
       "      <th>D_Al_W</th>\n",
       "      <th>Aware_Ph</th>\n",
       "      <th>Rely_Phy</th>\n",
       "      <th>Phy_Bef</th>\n",
       "      <th>Phy_Eff</th>\n",
       "      <th>Why_Phy</th>\n",
       "      <th>Trv_Iss</th>\n",
       "    </tr>\n",
       "  </thead>\n",
       "  <tbody>\n",
       "    <tr>\n",
       "      <th>149</th>\n",
       "      <td>-0.229076</td>\n",
       "      <td>-1.014128</td>\n",
       "      <td>-1.298451</td>\n",
       "      <td>1.558002</td>\n",
       "      <td>-0.623581</td>\n",
       "      <td>0.515765</td>\n",
       "      <td>-1.469449</td>\n",
       "      <td>-0.242793</td>\n",
       "      <td>-1.880522</td>\n",
       "      <td>-1.472871</td>\n",
       "      <td>1.173111</td>\n",
       "      <td>-1.559513</td>\n",
       "      <td>0.247996</td>\n",
       "      <td>0.962622</td>\n",
       "    </tr>\n",
       "    <tr>\n",
       "      <th>467</th>\n",
       "      <td>1.936210</td>\n",
       "      <td>-1.014128</td>\n",
       "      <td>0.755451</td>\n",
       "      <td>-0.999376</td>\n",
       "      <td>-0.358506</td>\n",
       "      <td>0.515765</td>\n",
       "      <td>0.567371</td>\n",
       "      <td>0.564898</td>\n",
       "      <td>0.531767</td>\n",
       "      <td>0.877755</td>\n",
       "      <td>1.173111</td>\n",
       "      <td>1.410705</td>\n",
       "      <td>-1.002006</td>\n",
       "      <td>0.962622</td>\n",
       "    </tr>\n",
       "    <tr>\n",
       "      <th>294</th>\n",
       "      <td>-0.003526</td>\n",
       "      <td>-1.014128</td>\n",
       "      <td>-0.350496</td>\n",
       "      <td>0.279313</td>\n",
       "      <td>1.125912</td>\n",
       "      <td>-1.414485</td>\n",
       "      <td>0.567371</td>\n",
       "      <td>1.372589</td>\n",
       "      <td>-1.880522</td>\n",
       "      <td>-0.689329</td>\n",
       "      <td>-0.852434</td>\n",
       "      <td>-0.074404</td>\n",
       "      <td>0.247996</td>\n",
       "      <td>0.962622</td>\n",
       "    </tr>\n",
       "    <tr>\n",
       "      <th>381</th>\n",
       "      <td>-0.048636</td>\n",
       "      <td>0.986069</td>\n",
       "      <td>0.518462</td>\n",
       "      <td>-0.999376</td>\n",
       "      <td>-0.538757</td>\n",
       "      <td>0.515765</td>\n",
       "      <td>0.567371</td>\n",
       "      <td>-1.050484</td>\n",
       "      <td>0.531767</td>\n",
       "      <td>0.877755</td>\n",
       "      <td>-0.852434</td>\n",
       "      <td>-2.302068</td>\n",
       "      <td>0.247996</td>\n",
       "      <td>-1.038829</td>\n",
       "    </tr>\n",
       "    <tr>\n",
       "      <th>321</th>\n",
       "      <td>-1.492160</td>\n",
       "      <td>-1.014128</td>\n",
       "      <td>0.123481</td>\n",
       "      <td>1.558002</td>\n",
       "      <td>0.065613</td>\n",
       "      <td>-0.771068</td>\n",
       "      <td>0.567371</td>\n",
       "      <td>-1.050484</td>\n",
       "      <td>0.531767</td>\n",
       "      <td>0.877755</td>\n",
       "      <td>1.173111</td>\n",
       "      <td>1.410705</td>\n",
       "      <td>-1.002006</td>\n",
       "      <td>0.962622</td>\n",
       "    </tr>\n",
       "    <tr>\n",
       "      <th>306</th>\n",
       "      <td>-0.589957</td>\n",
       "      <td>-1.014128</td>\n",
       "      <td>-1.298451</td>\n",
       "      <td>0.279313</td>\n",
       "      <td>1.550031</td>\n",
       "      <td>0.515765</td>\n",
       "      <td>0.567371</td>\n",
       "      <td>-1.050484</td>\n",
       "      <td>0.531767</td>\n",
       "      <td>0.877755</td>\n",
       "      <td>1.173111</td>\n",
       "      <td>0.668150</td>\n",
       "      <td>0.247996</td>\n",
       "      <td>-1.038829</td>\n",
       "    </tr>\n",
       "    <tr>\n",
       "      <th>66</th>\n",
       "      <td>1.214448</td>\n",
       "      <td>-1.014128</td>\n",
       "      <td>-0.587485</td>\n",
       "      <td>-0.999376</td>\n",
       "      <td>-0.252476</td>\n",
       "      <td>0.086820</td>\n",
       "      <td>0.567371</td>\n",
       "      <td>1.372589</td>\n",
       "      <td>0.531767</td>\n",
       "      <td>0.094213</td>\n",
       "      <td>-0.852434</td>\n",
       "      <td>-0.074404</td>\n",
       "      <td>0.247996</td>\n",
       "      <td>-1.038829</td>\n",
       "    </tr>\n",
       "    <tr>\n",
       "      <th>495</th>\n",
       "      <td>2.206871</td>\n",
       "      <td>0.986069</td>\n",
       "      <td>-0.824474</td>\n",
       "      <td>1.558002</td>\n",
       "      <td>-0.909862</td>\n",
       "      <td>-1.414485</td>\n",
       "      <td>0.567371</td>\n",
       "      <td>-1.050484</td>\n",
       "      <td>0.531767</td>\n",
       "      <td>0.877755</td>\n",
       "      <td>-0.852434</td>\n",
       "      <td>-0.074404</td>\n",
       "      <td>-1.002006</td>\n",
       "      <td>0.962622</td>\n",
       "    </tr>\n",
       "    <tr>\n",
       "      <th>127</th>\n",
       "      <td>0.086695</td>\n",
       "      <td>0.986069</td>\n",
       "      <td>-1.140459</td>\n",
       "      <td>-0.999376</td>\n",
       "      <td>-0.305491</td>\n",
       "      <td>0.944709</td>\n",
       "      <td>-1.469449</td>\n",
       "      <td>0.564898</td>\n",
       "      <td>0.531767</td>\n",
       "      <td>-1.472871</td>\n",
       "      <td>-0.852434</td>\n",
       "      <td>-0.074404</td>\n",
       "      <td>-1.002006</td>\n",
       "      <td>0.962622</td>\n",
       "    </tr>\n",
       "    <tr>\n",
       "      <th>70</th>\n",
       "      <td>-1.401940</td>\n",
       "      <td>-1.014128</td>\n",
       "      <td>-1.061462</td>\n",
       "      <td>-0.999376</td>\n",
       "      <td>0.171643</td>\n",
       "      <td>-0.985540</td>\n",
       "      <td>0.567371</td>\n",
       "      <td>0.564898</td>\n",
       "      <td>0.531767</td>\n",
       "      <td>0.877755</td>\n",
       "      <td>1.173111</td>\n",
       "      <td>1.410705</td>\n",
       "      <td>-1.002006</td>\n",
       "      <td>-1.038829</td>\n",
       "    </tr>\n",
       "  </tbody>\n",
       "</table>\n",
       "</div>"
      ],
      "text/plain": [
       "          Age    Gender     Place       Qua  F_Income   H_Issue  Alp_Before  \\\n",
       "149 -0.229076 -1.014128 -1.298451  1.558002 -0.623581  0.515765   -1.469449   \n",
       "467  1.936210 -1.014128  0.755451 -0.999376 -0.358506  0.515765    0.567371   \n",
       "294 -0.003526 -1.014128 -0.350496  0.279313  1.125912 -1.414485    0.567371   \n",
       "381 -0.048636  0.986069  0.518462 -0.999376 -0.538757  0.515765    0.567371   \n",
       "321 -1.492160 -1.014128  0.123481  1.558002  0.065613 -0.771068    0.567371   \n",
       "306 -0.589957 -1.014128 -1.298451  0.279313  1.550031  0.515765    0.567371   \n",
       "66   1.214448 -1.014128 -0.587485 -0.999376 -0.252476  0.086820    0.567371   \n",
       "495  2.206871  0.986069 -0.824474  1.558002 -0.909862 -1.414485    0.567371   \n",
       "127  0.086695  0.986069 -1.140459 -0.999376 -0.305491  0.944709   -1.469449   \n",
       "70  -1.401940 -1.014128 -1.061462 -0.999376  0.171643 -0.985540    0.567371   \n",
       "\n",
       "       D_Al_W  Aware_Ph  Rely_Phy   Phy_Bef   Phy_Eff   Why_Phy   Trv_Iss  \n",
       "149 -0.242793 -1.880522 -1.472871  1.173111 -1.559513  0.247996  0.962622  \n",
       "467  0.564898  0.531767  0.877755  1.173111  1.410705 -1.002006  0.962622  \n",
       "294  1.372589 -1.880522 -0.689329 -0.852434 -0.074404  0.247996  0.962622  \n",
       "381 -1.050484  0.531767  0.877755 -0.852434 -2.302068  0.247996 -1.038829  \n",
       "321 -1.050484  0.531767  0.877755  1.173111  1.410705 -1.002006  0.962622  \n",
       "306 -1.050484  0.531767  0.877755  1.173111  0.668150  0.247996 -1.038829  \n",
       "66   1.372589  0.531767  0.094213 -0.852434 -0.074404  0.247996 -1.038829  \n",
       "495 -1.050484  0.531767  0.877755 -0.852434 -0.074404 -1.002006  0.962622  \n",
       "127  0.564898  0.531767 -1.472871 -0.852434 -0.074404 -1.002006  0.962622  \n",
       "70   0.564898  0.531767  0.877755  1.173111  1.410705 -1.002006 -1.038829  "
      ]
     },
     "execution_count": 54,
     "metadata": {},
     "output_type": "execute_result"
    }
   ],
   "source": [
    "X_test.head(10)"
   ]
  },
  {
   "cell_type": "markdown",
   "metadata": {},
   "source": [
    "# #############################################"
   ]
  },
  {
   "cell_type": "code",
   "execution_count": 55,
   "metadata": {},
   "outputs": [
    {
     "name": "stderr",
     "output_type": "stream",
     "text": [
      "C:\\Users\\Pattu\\anaconda3\\lib\\site-packages\\sklearn\\utils\\validation.py:993: DataConversionWarning: A column-vector y was passed when a 1d array was expected. Please change the shape of y to (n_samples, ), for example using ravel().\n",
      "  y = column_or_1d(y, warn=True)\n"
     ]
    },
    {
     "data": {
      "text/plain": [
       "SVC()"
      ]
     },
     "execution_count": 55,
     "metadata": {},
     "output_type": "execute_result"
    }
   ],
   "source": [
    "model6.fit(X_train,y_train)"
   ]
  },
  {
   "cell_type": "code",
   "execution_count": 56,
   "metadata": {},
   "outputs": [],
   "source": [
    "y_pred_SVC_1 = model6.predict(X_test)"
   ]
  },
  {
   "cell_type": "code",
   "execution_count": 57,
   "metadata": {},
   "outputs": [
    {
     "name": "stdout",
     "output_type": "stream",
     "text": [
      "Accuracy: 0.98\n"
     ]
    }
   ],
   "source": [
    "accuracy = accuracy_score(y_test, y_pred_SVC_1)\n",
    "print(\"Accuracy:\", accuracy)"
   ]
  },
  {
   "cell_type": "code",
   "execution_count": 58,
   "metadata": {},
   "outputs": [],
   "source": [
    "y_pred_SVC_2 = model6.predict(X_train)"
   ]
  },
  {
   "cell_type": "code",
   "execution_count": 59,
   "metadata": {},
   "outputs": [
    {
     "name": "stdout",
     "output_type": "stream",
     "text": [
      "Accuracy: 0.9949874686716792\n"
     ]
    }
   ],
   "source": [
    "accuracy = accuracy_score(y_train, y_pred_SVC_2)\n",
    "print(\"Accuracy:\", accuracy)"
   ]
  },
  {
   "cell_type": "code",
   "execution_count": 60,
   "metadata": {},
   "outputs": [
    {
     "name": "stdout",
     "output_type": "stream",
     "text": [
      "Value of C parameter: 1.0\n",
      "Kernel function used: rbf\n",
      "Support vectors: [[ 2.11665078  0.98606897 -0.82447371 ... -0.07440427 -1.00200602\n",
      "   0.9626219 ]\n",
      " [ 0.89867709 -1.01412784  1.30842458 ... -0.07440427 -1.00200602\n",
      "  -1.03882947]\n",
      " [-0.36440673 -1.01412784 -1.21945487 ... -0.07440427  0.24799649\n",
      "  -1.03882947]\n",
      " ...\n",
      " [ 1.75576969 -1.01412784 -1.06146241 ... -0.07440427  0.24799649\n",
      "   0.9626219 ]\n",
      " [ 1.84598996 -1.01412784  0.75545095 ...  1.41070491 -1.00200602\n",
      "   0.9626219 ]\n",
      " [-0.72528783  0.98606897 -1.06146241 ... -0.07440427  1.497999\n",
      "   0.9626219 ]]\n",
      "Number of support vectors for each class: [88 85]\n"
     ]
    }
   ],
   "source": [
    "print(\"Value of C parameter:\", model6.C)\n",
    "print(\"Kernel function used:\", model6.kernel)\n",
    "print(\"Support vectors:\", model6.support_vectors_)\n",
    "print(\"Number of support vectors for each class:\", model6.n_support_)"
   ]
  },
  {
   "cell_type": "code",
   "execution_count": 61,
   "metadata": {},
   "outputs": [
    {
     "ename": "AttributeError",
     "evalue": "coef_ is only available when using a linear kernel",
     "output_type": "error",
     "traceback": [
      "\u001b[1;31m---------------------------------------------------------------------------\u001b[0m",
      "\u001b[1;31mAttributeError\u001b[0m                            Traceback (most recent call last)",
      "\u001b[1;32m<ipython-input-61-ab24854aedf9>\u001b[0m in \u001b[0;36m<module>\u001b[1;34m\u001b[0m\n\u001b[1;32m----> 1\u001b[1;33m \u001b[0mmargin_width\u001b[0m \u001b[1;33m=\u001b[0m \u001b[1;36m2\u001b[0m\u001b[1;33m/\u001b[0m\u001b[0mnp\u001b[0m\u001b[1;33m.\u001b[0m\u001b[0mlinalg\u001b[0m\u001b[1;33m.\u001b[0m\u001b[0mnorm\u001b[0m\u001b[1;33m(\u001b[0m\u001b[0mmodel6\u001b[0m\u001b[1;33m.\u001b[0m\u001b[0mcoef_\u001b[0m\u001b[1;33m)\u001b[0m\u001b[1;33m\u001b[0m\u001b[1;33m\u001b[0m\u001b[0m\n\u001b[0m\u001b[0;32m      2\u001b[0m \u001b[0mprint\u001b[0m\u001b[1;33m(\u001b[0m\u001b[1;34m\"Margin width:\"\u001b[0m\u001b[1;33m,\u001b[0m \u001b[0mmargin_width\u001b[0m\u001b[1;33m)\u001b[0m\u001b[1;33m\u001b[0m\u001b[1;33m\u001b[0m\u001b[0m\n",
      "\u001b[1;32m~\\anaconda3\\lib\\site-packages\\sklearn\\svm\\_base.py\u001b[0m in \u001b[0;36mcoef_\u001b[1;34m(self)\u001b[0m\n\u001b[0;32m    635\u001b[0m         \"\"\"\n\u001b[0;32m    636\u001b[0m         \u001b[1;32mif\u001b[0m \u001b[0mself\u001b[0m\u001b[1;33m.\u001b[0m\u001b[0mkernel\u001b[0m \u001b[1;33m!=\u001b[0m \u001b[1;34m\"linear\"\u001b[0m\u001b[1;33m:\u001b[0m\u001b[1;33m\u001b[0m\u001b[1;33m\u001b[0m\u001b[0m\n\u001b[1;32m--> 637\u001b[1;33m             \u001b[1;32mraise\u001b[0m \u001b[0mAttributeError\u001b[0m\u001b[1;33m(\u001b[0m\u001b[1;34m\"coef_ is only available when using a linear kernel\"\u001b[0m\u001b[1;33m)\u001b[0m\u001b[1;33m\u001b[0m\u001b[1;33m\u001b[0m\u001b[0m\n\u001b[0m\u001b[0;32m    638\u001b[0m \u001b[1;33m\u001b[0m\u001b[0m\n\u001b[0;32m    639\u001b[0m         \u001b[0mcoef\u001b[0m \u001b[1;33m=\u001b[0m \u001b[0mself\u001b[0m\u001b[1;33m.\u001b[0m\u001b[0m_get_coef\u001b[0m\u001b[1;33m(\u001b[0m\u001b[1;33m)\u001b[0m\u001b[1;33m\u001b[0m\u001b[1;33m\u001b[0m\u001b[0m\n",
      "\u001b[1;31mAttributeError\u001b[0m: coef_ is only available when using a linear kernel"
     ]
    }
   ],
   "source": [
    "margin_width = 2/np.linalg.norm(model6.coef_)\n",
    "print(\"Margin width:\", margin_width)"
   ]
  },
  {
   "cell_type": "code",
   "execution_count": null,
   "metadata": {},
   "outputs": [],
   "source": []
  },
  {
   "cell_type": "markdown",
   "metadata": {},
   "source": [
    "# ###################################################"
   ]
  },
  {
   "cell_type": "code",
   "execution_count": null,
   "metadata": {},
   "outputs": [],
   "source": []
  }
 ],
 "metadata": {
  "kernelspec": {
   "display_name": "Python 3",
   "language": "python",
   "name": "python3"
  },
  "language_info": {
   "codemirror_mode": {
    "name": "ipython",
    "version": 3
   },
   "file_extension": ".py",
   "mimetype": "text/x-python",
   "name": "python",
   "nbconvert_exporter": "python",
   "pygments_lexer": "ipython3",
   "version": "3.8.5"
  }
 },
 "nbformat": 4,
 "nbformat_minor": 4
}
